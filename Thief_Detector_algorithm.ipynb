{
 "cells": [
  {
   "cell_type": "markdown",
   "metadata": {},
   "source": [
    "# Thief Detector\n",
    "## This is a a motion detection algorithm that alarms you when you have an unwanted visitor in your home."
   ]
  },
  {
   "cell_type": "code",
   "execution_count": 1,
   "metadata": {},
   "outputs": [
    {
     "ename": "KeyboardInterrupt",
     "evalue": "",
     "output_type": "error",
     "traceback": [
      "\u001b[1;31m---------------------------------------------------------------------------\u001b[0m",
      "\u001b[1;31mKeyboardInterrupt\u001b[0m                         Traceback (most recent call last)",
      "\u001b[1;32m<ipython-input-1-26809e6f45f3>\u001b[0m in \u001b[0;36m<module>\u001b[1;34m\u001b[0m\n\u001b[0;32m     29\u001b[0m \u001b[1;33m\u001b[0m\u001b[0m\n\u001b[0;32m     30\u001b[0m     \u001b[1;31m## Apply threshold [5 points]\u001b[0m\u001b[1;33m\u001b[0m\u001b[1;33m\u001b[0m\u001b[1;33m\u001b[0m\u001b[0m\n\u001b[1;32m---> 31\u001b[1;33m     \u001b[0mthreshold_\u001b[0m \u001b[1;33m=\u001b[0m \u001b[0mcv2\u001b[0m\u001b[1;33m.\u001b[0m\u001b[0madaptiveThreshold\u001b[0m\u001b[1;33m(\u001b[0m\u001b[0mabs_diff\u001b[0m\u001b[1;33m,\u001b[0m \u001b[1;36m255\u001b[0m\u001b[1;33m,\u001b[0m \u001b[0mcv2\u001b[0m\u001b[1;33m.\u001b[0m\u001b[0mADAPTIVE_THRESH_GAUSSIAN_C\u001b[0m\u001b[1;33m,\u001b[0m\u001b[0mcv2\u001b[0m\u001b[1;33m.\u001b[0m\u001b[0mTHRESH_BINARY\u001b[0m\u001b[1;33m,\u001b[0m \u001b[1;36m199\u001b[0m\u001b[1;33m,\u001b[0m \u001b[1;36m5\u001b[0m\u001b[1;33m)\u001b[0m\u001b[1;33m\u001b[0m\u001b[1;33m\u001b[0m\u001b[0m\n\u001b[0m\u001b[0;32m     32\u001b[0m     \u001b[0mthres\u001b[0m \u001b[1;33m=\u001b[0m \u001b[1;36m30\u001b[0m\u001b[1;33m\u001b[0m\u001b[1;33m\u001b[0m\u001b[0m\n\u001b[0;32m     33\u001b[0m \u001b[1;33m\u001b[0m\u001b[0m\n",
      "\u001b[1;31mKeyboardInterrupt\u001b[0m: "
     ]
    }
   ],
   "source": [
    "import cv2\n",
    "import os\n",
    "import sys\n",
    "import time\n",
    "\n",
    "time.sleep(3)\n",
    "## Get live video feed from webcam [10 points]\n",
    "video_capture = cv2.VideoCapture(0)\n",
    "\n",
    "\n",
    " ## Read first frame, convert to Grayscale and store it as reference background image [10 points]\n",
    "ret, og_frame = video_capture.read()\n",
    "ref_back = cv2.cvtColor(og_frame, cv2.COLOR_BGR2GRAY)\n",
    "\n",
    "video_capture = cv2.VideoCapture(0)\n",
    "width = int(video_capture.get(cv2.CAP_PROP_FRAME_WIDTH))    # get camera resolution\n",
    "height = int(video_capture.get(cv2.CAP_PROP_FRAME_HEIGHT))\n",
    "filename = \"output4.avi\"\n",
    "fourcc = cv2.VideoWriter_fourcc(*\"XVID\")\n",
    "out=cv2.VideoWriter(filename, fourcc, 20.0, (width, height))\n",
    "\n",
    "\n",
    "while True:\n",
    "    ret, frame = video_capture.read()\n",
    "    gray = cv2.cvtColor(frame, cv2.COLOR_BGR2GRAY)\n",
    "    \n",
    "     ## Compute Absolute Difference between Current and First frame [20 points]\n",
    "    abs_diff = cv2.absdiff(gray,ref_back)\n",
    "    \n",
    "    ## Apply threshold [5 points]\n",
    "    threshold_ = cv2.adaptiveThreshold(abs_diff, 255, cv2.ADAPTIVE_THRESH_GAUSSIAN_C,cv2.THRESH_BINARY, 199, 5)\n",
    "    thres = 30\n",
    "    \n",
    "   \n",
    "\n",
    "    threshold_ = cv2.threshold(abs_diff, thres, 255, cv2.THRESH_BINARY)[1]\n",
    "    cv2.imshow('',threshold_)\n",
    "    contours, hierarchy = cv2.findContours(threshold_.copy(), cv2.RETR_LIST, cv2.CHAIN_APPROX_SIMPLE)\n",
    "\n",
    "    try: hierarchy = hierarchy[0]\n",
    "    except: hierarchy = []\n",
    "    \n",
    "    ## Find contours [10 points]\n",
    "    max_c = max(contours, key = cv2.contourArea)\n",
    "    x,y,w,h = cv2.boundingRect(max_c)\n",
    "    \n",
    "    c_a = w * h\n",
    "    ## Check if contourArea is large and draw rectangle around the object, output \"UNSAFE\" text in red color [30 points]\n",
    "    if c_a > 1000 and c_a < 200000:\n",
    "        cv2.rectangle(frame, (x,y), (x+w,y+h), (255, 0, 0), 2)\n",
    "        font = cv2.FONT_HERSHEY_SIMPLEX\n",
    "        cv2.putText(frame,'UNSAFE',(20,50), font, 4, (0,0, 255), 2, cv2.LINE_AA)        \n",
    "        \n",
    "    ## Display images [10 points]\n",
    "    cv2.imshow('Face Video', frame)\n",
    "    if cv2.waitKey(1) & 0xFF == ord('q'):\n",
    "        break\n",
    "        \n",
    "## Release objects [5 points]\n",
    "out.release()\n",
    "video_capture.release()\n",
    "cv2.destroyAllWindows()"
   ]
  },
  {
   "cell_type": "code",
   "execution_count": null,
   "metadata": {},
   "outputs": [],
   "source": []
  }
 ],
 "metadata": {
  "kernelspec": {
   "display_name": "Python 3",
   "language": "python",
   "name": "python3"
  },
  "language_info": {
   "codemirror_mode": {
    "name": "ipython",
    "version": 3
   },
   "file_extension": ".py",
   "mimetype": "text/x-python",
   "name": "python",
   "nbconvert_exporter": "python",
   "pygments_lexer": "ipython3",
   "version": "3.8.8"
  }
 },
 "nbformat": 4,
 "nbformat_minor": 4
}
